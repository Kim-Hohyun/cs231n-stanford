{
 "cells": [
  {
   "cell_type": "markdown",
   "metadata": {},
   "source": [
    "cs231n/classifiers/softmax.py 파일을 여기로 합쳤습니다."
   ]
  },
  {
   "cell_type": "markdown",
   "metadata": {
    "tags": [
     "pdf-title"
    ]
   },
   "source": [
    "# Softmax exercise\n",
    "\n",
    "This exercise is analogous to the SVM exercise. You will:\n",
    "\n",
    "- implement a fully-vectorized **loss function** for the Softmax classifier\n",
    "- implement the fully-vectorized expression for its **analytic gradient**\n",
    "- **check your implementation** with numerical gradient\n",
    "- use a validation set to **tune the learning rate and regularization** strength\n",
    "- **optimize** the loss function with **SGD**\n",
    "- **visualize** the final learned weights\n"
   ]
  },
  {
   "cell_type": "markdown",
   "metadata": {},
   "source": [
    "## CIFAR-10 Data Loading and Preprocessing"
   ]
  },
  {
   "cell_type": "code",
   "execution_count": 1,
   "metadata": {
    "tags": [
     "pdf-ignore"
    ]
   },
   "outputs": [
    {
     "name": "stderr",
     "output_type": "stream",
     "text": [
      "Using TensorFlow backend.\n"
     ]
    },
    {
     "name": "stdout",
     "output_type": "stream",
     "text": [
      "(49000, 3073) (1000, 3073) (1000, 3073) (500, 3073)\n"
     ]
    }
   ],
   "source": [
    "import numpy as np\n",
    "import matplotlib.pyplot as plt\n",
    "from keras.datasets import cifar10  \n",
    "\n",
    "# 데이터 전처리 방식은 svm과 같다.\n",
    "(X_train, y_train), (X_test, y_test) = cifar10.load_data()\n",
    "\n",
    "y_train = y_train.reshape(-1,)\n",
    "y_test = y_test.reshape(-1,)\n",
    "\n",
    "num_training = 49000\n",
    "num_validation = 1000\n",
    "num_test = 1000\n",
    "num_dev = 500\n",
    "\n",
    "# subsample the data\n",
    "mask = range(num_training, num_training + num_validation)\n",
    "X_val = X_train[mask].astype('float64')\n",
    "y_val = y_train[mask]\n",
    "mask = range(num_training)\n",
    "X_train = X_train[mask].astype('float64')\n",
    "y_train = y_train[mask]\n",
    "mask = range(num_test)\n",
    "X_test = X_test[mask].astype('float64')\n",
    "y_test = y_test[mask]\n",
    "mask = np.random.choice(num_training, num_dev, replace=False)\n",
    "X_dev = X_train[mask].astype('float64')\n",
    "y_dev = y_train[mask]\n",
    "\n",
    "# Preprocessing: reshape the image data into rows\n",
    "X_train = np.reshape(X_train, (X_train.shape[0], -1))\n",
    "X_val = np.reshape(X_val, (X_val.shape[0], -1))\n",
    "X_test = np.reshape(X_test, (X_test.shape[0], -1))\n",
    "X_dev = np.reshape(X_dev, (X_dev.shape[0], -1))\n",
    "\n",
    "# Normalize the data: subtract the mean image\n",
    "mean_image = np.mean(X_train, axis=0)\n",
    "X_train -= mean_image\n",
    "X_val -= mean_image\n",
    "X_test -= mean_image\n",
    "X_dev -= mean_image\n",
    "\n",
    "# add bias dimension and transform into columns\n",
    "X_train = np.hstack([X_train, np.ones((X_train.shape[0], 1))])\n",
    "X_val = np.hstack([X_val, np.ones((X_val.shape[0], 1))])\n",
    "X_test = np.hstack([X_test, np.ones((X_test.shape[0], 1))])\n",
    "X_dev = np.hstack([X_dev, np.ones((X_dev.shape[0], 1))])\n",
    "\n",
    "print(X_train.shape, X_val.shape, X_test.shape, X_dev.shape)"
   ]
  },
  {
   "cell_type": "markdown",
   "metadata": {},
   "source": [
    "## Softmax Classifier (naive)"
   ]
  },
  {
   "cell_type": "code",
   "execution_count": 2,
   "metadata": {},
   "outputs": [],
   "source": [
    "def softmax_loss_naive(W, X, y, reg):\n",
    "    \n",
    "    loss = 0.0\n",
    "    dW = np.zeros_like(W)\n",
    "    num_train = X.shape[0]\n",
    "    \n",
    "    for i in range(num_train):\n",
    "        scores = np.dot(X[i], W)\n",
    "        scores -= np.max(scores) # normalization trick for numeric stability\n",
    "        scores_exp = np.exp(scores)\n",
    "        scores_expsum = np.sum(scores_exp)\n",
    "        loss += -scores[y[i]] + np.log(scores_expsum)\n",
    "        dW += np.dot(X[i].reshape(-1,1), scores_exp.reshape(1,-1)) / scores_expsum\n",
    "        dW[:, y[i]] -= X[i]\n",
    "        \n",
    "    loss /= num_train\n",
    "    loss += np.sum(W*W)\n",
    "    dW /= num_train\n",
    "    dW += 2 * reg * W\n",
    "    \n",
    "    return loss, dW"
   ]
  },
  {
   "cell_type": "markdown",
   "metadata": {},
   "source": [
    "#### loss check"
   ]
  },
  {
   "cell_type": "code",
   "execution_count": 3,
   "metadata": {},
   "outputs": [
    {
     "name": "stdout",
     "output_type": "stream",
     "text": [
      "loss: 2.302580\n",
      "sanity check: 2.302585\n"
     ]
    }
   ],
   "source": [
    "W = np.random.randn(3073, 10) * 0.00001\n",
    "loss, grad = softmax_loss_naive(W, X_dev, y_dev, 0.0)\n",
    "\n",
    "# As a rough sanity check, our loss should be something close to -log(0.1) = 랜덤 추측의 기대 손실값.\n",
    "print('loss: %f' % loss)\n",
    "print('sanity check: %f' % (-np.log(0.1)))"
   ]
  },
  {
   "cell_type": "markdown",
   "metadata": {},
   "source": [
    "#### gradients check"
   ]
  },
  {
   "cell_type": "code",
   "execution_count": 4,
   "metadata": {},
   "outputs": [
    {
     "name": "stdout",
     "output_type": "stream",
     "text": [
      "numerical: 2.337467 analytic: 2.337481, relative error: 3.000348e-06\n",
      "numerical: 1.249165 analytic: 1.249154, relative error: 4.646828e-06\n",
      "numerical: 1.234856 analytic: 1.234842, relative error: 5.802200e-06\n",
      "numerical: -0.091304 analytic: -0.091323, relative error: 1.037262e-04\n",
      "numerical: -3.864538 analytic: -3.864566, relative error: 3.633269e-06\n",
      "numerical: -1.272824 analytic: -1.272812, relative error: 4.754312e-06\n",
      "numerical: 0.587987 analytic: 0.588003, relative error: 1.403991e-05\n",
      "numerical: 1.521838 analytic: 1.521830, relative error: 2.822122e-06\n",
      "numerical: -0.549806 analytic: -0.549785, relative error: 1.858919e-05\n",
      "numerical: 0.452490 analytic: 0.452461, relative error: 3.259570e-05\n"
     ]
    }
   ],
   "source": [
    "from cs231n.gradient_check import grad_check_sparse\n",
    "\n",
    "# 규제 없이 그레디언트 체크\n",
    "loss, grad = softmax_loss_naive(W, X_dev, y_dev, 0.0)\n",
    "f = lambda w: softmax_loss_naive(w, X_dev, y_dev, 0.0)[0]\n",
    "grad_numerical = grad_check_sparse(f, W, grad, 10)"
   ]
  },
  {
   "cell_type": "code",
   "execution_count": 5,
   "metadata": {},
   "outputs": [
    {
     "name": "stdout",
     "output_type": "stream",
     "text": [
      "numerical: 1.979212 analytic: 1.979192, relative error: 5.069877e-06\n",
      "numerical: 2.725043 analytic: 2.725267, relative error: 4.111751e-05\n",
      "numerical: 2.020536 analytic: 2.020139, relative error: 9.825965e-05\n",
      "numerical: -1.139183 analytic: -1.139311, relative error: 5.626429e-05\n",
      "numerical: -2.773556 analytic: -2.774214, relative error: 1.186936e-04\n",
      "numerical: -0.448343 analytic: -0.448229, relative error: 1.272309e-04\n",
      "numerical: 0.150926 analytic: 0.150864, relative error: 2.047912e-04\n",
      "numerical: -0.448343 analytic: -0.448229, relative error: 1.272309e-04\n",
      "numerical: 0.626992 analytic: 0.628398, relative error: 1.119607e-03\n",
      "numerical: -1.745013 analytic: -1.743895, relative error: 3.203573e-04\n"
     ]
    }
   ],
   "source": [
    "# 규제를 가한 후 그레디언트 체크\n",
    "loss, grad = softmax_loss_naive(W, X_dev, y_dev, 5e1)\n",
    "f = lambda w: softmax_loss_naive(w, X_dev, y_dev, 5e1)[0]\n",
    "grad_numerical = grad_check_sparse(f, W, grad, 10)"
   ]
  },
  {
   "cell_type": "markdown",
   "metadata": {},
   "source": [
    "## Softmax Classifier (vetorized)"
   ]
  },
  {
   "cell_type": "code",
   "execution_count": 6,
   "metadata": {},
   "outputs": [],
   "source": [
    "def softmax_loss_vectorized(W, X, y, reg):\n",
    "\n",
    "    num_train = X.shape[0]\n",
    "    \n",
    "    scores = np.dot(X, W)\n",
    "    scores -= np.max(scores, axis=1, keepdims=True)\n",
    "    scores_exp = np.exp(scores)\n",
    "    scores_expsum = np.sum(scores_exp, axis=1, keepdims=True)\n",
    "    loss = np.sum(-scores[range(num_train), y] + np.log(scores_expsum).reshape(-1)) \n",
    "    \n",
    "    loss /= num_train\n",
    "    loss += np.sum(W*W)\n",
    "    \n",
    "    s = scores_exp/scores_expsum\n",
    "    s[range(num_train), y] -= 1\n",
    "    dW = np.dot(X.T, s) \n",
    "    dW /= num_train\n",
    "    dW += 2 * reg * W\n",
    "    \n",
    "    return loss, dW"
   ]
  },
  {
   "cell_type": "code",
   "execution_count": 7,
   "metadata": {
    "scrolled": true
   },
   "outputs": [
    {
     "name": "stdout",
     "output_type": "stream",
     "text": [
      "naive loss: 2.302580e+00 computed in 0.046874s\n",
      "vectorized loss: 2.302580e+00 computed in 0.002995s\n",
      "Loss difference: 0.000000\n",
      "Gradient difference: 0.000000\n"
     ]
    }
   ],
   "source": [
    "import time\n",
    "\n",
    "tic = time.time()\n",
    "loss_naive, grad_naive = softmax_loss_naive(W, X_dev, y_dev, 0.000005)\n",
    "toc = time.time()\n",
    "print('naive loss: %e computed in %fs' % (loss_naive, toc - tic))\n",
    "\n",
    "tic = time.time()\n",
    "loss_vectorized, grad_vectorized = softmax_loss_vectorized(W, X_dev, y_dev, 0.000005)\n",
    "toc = time.time()\n",
    "print('vectorized loss: %e computed in %fs' % (loss_vectorized, toc - tic))\n",
    "\n",
    "# As we did for the SVM, we use the Frobenius norm to compare the two versions of the gradient.\n",
    "grad_difference = np.linalg.norm(grad_naive - grad_vectorized, ord='fro')\n",
    "print('Loss difference: %f' % np.abs(loss_naive - loss_vectorized))\n",
    "print('Gradient difference: %f' % grad_difference)"
   ]
  },
  {
   "cell_type": "markdown",
   "metadata": {},
   "source": [
    "## 하이퍼 파라미터 튜닝"
   ]
  },
  {
   "cell_type": "code",
   "execution_count": 8,
   "metadata": {},
   "outputs": [],
   "source": [
    "class Softmax(): # loss 함수를 제외하고 svm에서 한 것과 같다.\n",
    "    def __init__(self):\n",
    "        self.W = None\n",
    "    def train(self, X, y, learning_rate=1e-3, reg=1e-5, num_iters=100, batch_size=200, verbose=False):\n",
    "        num_train, dim = X.shape\n",
    "        num_classes = np.max(y) + 1\n",
    "        if self.W is None: \n",
    "            self.W = 0.001 * np.random.randn(dim, num_classes)\n",
    "        loss_history = []\n",
    "        for it in range(num_iters):\n",
    "            batch_index = np.random.choice(np.arange(num_train), batch_size)\n",
    "            X_batch = X[batch_index]\n",
    "            y_batch = y[batch_index]\n",
    "            # evaluate loss and gradient\n",
    "            loss, grad = self.loss(X_batch, y_batch, reg)\n",
    "            loss_history.append(loss)\n",
    "            # perform parameter update\n",
    "            self.W -= learning_rate * grad\n",
    "            if verbose and it % 100 == 0:\n",
    "                print('iteration %d / %d: loss %f' % (it, num_iters, loss))\n",
    "        return loss_history\n",
    "    def predict(self, X):\n",
    "        y_pred = np.argmax(np.dot(X, self.W), axis=1)\n",
    "        return y_pred\n",
    "    def loss(self, X_batch, y_batch, reg):\n",
    "        return softmax_loss_vectorized(self.W, X_batch, y_batch, reg)"
   ]
  },
  {
   "cell_type": "code",
   "execution_count": 9,
   "metadata": {
    "tags": [
     "code"
    ]
   },
   "outputs": [
    {
     "name": "stdout",
     "output_type": "stream",
     "text": [
      "lr 2.065166e-07 reg 2.548617e+04 train accuracy: 0.284796 val accuracy: 0.281000\n",
      "lr 2.167715e-07 reg 3.194886e+04 train accuracy: 0.313265 val accuracy: 0.321000\n",
      "lr 2.253500e-07 reg 2.525865e+04 train accuracy: 0.293122 val accuracy: 0.313000\n",
      "lr 2.286283e-07 reg 3.397913e+04 train accuracy: 0.312837 val accuracy: 0.322000\n",
      "lr 2.451493e-07 reg 2.919068e+04 train accuracy: 0.305367 val accuracy: 0.326000\n",
      "lr 2.466422e-07 reg 3.148678e+04 train accuracy: 0.312673 val accuracy: 0.327000\n",
      "lr 2.577042e-07 reg 2.563744e+04 train accuracy: 0.315959 val accuracy: 0.329000\n",
      "lr 2.602462e-07 reg 3.326317e+04 train accuracy: 0.311020 val accuracy: 0.334000\n",
      "lr 2.631477e-07 reg 2.876372e+04 train accuracy: 0.309714 val accuracy: 0.316000\n",
      "lr 2.656796e-07 reg 6.775617e+04 train accuracy: 0.290327 val accuracy: 0.315000\n",
      "lr 2.770210e-07 reg 3.983965e+04 train accuracy: 0.306265 val accuracy: 0.324000\n",
      "lr 2.782509e-07 reg 3.017661e+04 train accuracy: 0.311408 val accuracy: 0.319000\n",
      "lr 2.987732e-07 reg 2.520256e+04 train accuracy: 0.316082 val accuracy: 0.337000\n",
      "lr 3.016643e-07 reg 3.769800e+04 train accuracy: 0.311551 val accuracy: 0.324000\n",
      "lr 3.043713e-07 reg 2.821073e+04 train accuracy: 0.311776 val accuracy: 0.326000\n",
      "lr 3.067283e-07 reg 3.854821e+04 train accuracy: 0.310857 val accuracy: 0.330000\n",
      "lr 3.281791e-07 reg 2.855191e+04 train accuracy: 0.312367 val accuracy: 0.330000\n",
      "lr 3.309217e-07 reg 2.645744e+04 train accuracy: 0.324143 val accuracy: 0.341000\n",
      "lr 3.470332e-07 reg 4.743552e+04 train accuracy: 0.310918 val accuracy: 0.321000\n",
      "lr 3.550101e-07 reg 5.861046e+04 train accuracy: 0.298898 val accuracy: 0.310000\n",
      "lr 4.076885e-07 reg 5.696295e+04 train accuracy: 0.298653 val accuracy: 0.313000\n",
      "lr 4.207252e-07 reg 3.591757e+04 train accuracy: 0.318286 val accuracy: 0.339000\n",
      "lr 4.246880e-07 reg 3.238379e+04 train accuracy: 0.312939 val accuracy: 0.329000\n",
      "lr 4.306800e-07 reg 2.703574e+04 train accuracy: 0.309143 val accuracy: 0.321000\n",
      "lr 4.772042e-07 reg 4.099336e+04 train accuracy: 0.305408 val accuracy: 0.328000\n",
      "lr 5.164559e-07 reg 2.870874e+04 train accuracy: 0.323510 val accuracy: 0.333000\n",
      "lr 5.699403e-07 reg 2.509712e+04 train accuracy: 0.318306 val accuracy: 0.340000\n",
      "lr 6.001479e-07 reg 4.251881e+04 train accuracy: 0.309510 val accuracy: 0.326000\n",
      "lr 6.002962e-07 reg 2.549370e+04 train accuracy: 0.327531 val accuracy: 0.346000\n",
      "lr 6.822745e-07 reg 2.746803e+04 train accuracy: 0.322143 val accuracy: 0.336000\n",
      "best validation accuracy achieved during cross-validation: 0.346000\n"
     ]
    }
   ],
   "source": [
    "results = {}\n",
    "best_val = -1\n",
    "best_softmax = None\n",
    "learning_rates = (np.power(10, np.random.rand(30)) -1) / 9 * 5e-7 + 2e-7\n",
    "regularization_strengths = np.power(10, np.random.rand(30)) * 5e3 + 2e4\n",
    "\n",
    "for lr, rs in zip(learning_rates, regularization_strengths):\n",
    "    softmax = Softmax()\n",
    "    loss = softmax.train(X_train, y_train, learning_rate=lr, reg=rs, num_iters=200, verbose=False)\n",
    "    train_acc = np.mean(softmax.predict(X_train) == y_train)\n",
    "    val_acc = np.mean(softmax.predict(X_val) == y_val)\n",
    "    results[(lr, rs)] = (train_acc, val_acc)\n",
    "\n",
    "    if val_acc > best_val:\n",
    "        best_val = val_acc\n",
    "        best_softmax = softmax\n",
    "        best_loss = loss\n",
    "# Print out results.\n",
    "for lr, reg in sorted(results):\n",
    "    train_accuracy, val_accuracy = results[(lr, reg)]\n",
    "    print('lr %e reg %e train accuracy: %f val accuracy: %f' % (\n",
    "                lr, reg, train_accuracy, val_accuracy))\n",
    "    \n",
    "print('best validation accuracy achieved during cross-validation: %f' % best_val)"
   ]
  },
  {
   "cell_type": "code",
   "execution_count": 10,
   "metadata": {},
   "outputs": [
    {
     "data": {
      "image/png": "[encoded data removed]",
      "text/plain": [
       "<Figure size 432x288 with 1 Axes>"
      ]
     },
     "metadata": {
      "needs_background": "light"
     },
     "output_type": "display_data"
    }
   ],
   "source": [
    "plt.plot(best_loss)\n",
    "plt.show()"
   ]
  },
  {
   "cell_type": "code",
   "execution_count": 11,
   "metadata": {},
   "outputs": [
    {
     "name": "stdout",
     "output_type": "stream",
     "text": [
      "softmax on raw pixels final test set accuracy: 0.358000\n"
     ]
    }
   ],
   "source": [
    "# evaluate on test set\n",
    "# Evaluate the best softmax on test set\n",
    "y_test_pred = best_softmax.predict(X_test)\n",
    "test_accuracy = np.mean(y_test == y_test_pred)\n",
    "print('softmax on raw pixels final test set accuracy: %f' % (test_accuracy, ))"
   ]
  },
  {
   "cell_type": "markdown",
   "metadata": {
    "tags": [
     "pdf-inline"
    ]
   },
   "source": [
    "### 가중치 시각화"
   ]
  },
  {
   "cell_type": "code",
   "execution_count": 12,
   "metadata": {},
   "outputs": [
    {
     "data": {
      "image/png": "[encoded data removed]",
      "text/plain": [
       "<Figure size 864x288 with 10 Axes>"
      ]
     },
     "metadata": {
      "needs_background": "light"
     },
     "output_type": "display_data"
    }
   ],
   "source": [
    "# Visualize the learned weights for each class\n",
    "w = best_softmax.W[:-1,:] # strip out the bias\n",
    "w = w.reshape(32, 32, 3, 10)\n",
    "\n",
    "w_min, w_max = np.min(w), np.max(w)\n",
    "\n",
    "classes = ['plane', 'car', 'bird', 'cat', 'deer', 'dog', 'frog', 'horse', 'ship', 'truck']\n",
    "plt.figure(figsize=(12,4))\n",
    "for i in range(10):\n",
    "    plt.subplot(2, 5, i + 1)\n",
    "    wimg = 255.0 * (w[:, :, :, i].squeeze() - w_min) / (w_max - w_min)\n",
    "    plt.imshow(wimg.astype('uint8'))\n",
    "    plt.axis('off')\n",
    "    plt.title(classes[i])"
   ]
  }
 ],
 "metadata": {
  "kernelspec": {
   "display_name": "Python 3",
   "language": "python",
   "name": "python3"
  },
  "language_info": {
   "codemirror_mode": {
    "name": "ipython",
    "version": 3
   },
   "file_extension": ".py",
   "mimetype": "text/x-python",
   "name": "python",
   "nbconvert_exporter": "python",
   "pygments_lexer": "ipython3",
   "version": "3.6.8"
  }
 },
 "nbformat": 4,
 "nbformat_minor": 1
}
